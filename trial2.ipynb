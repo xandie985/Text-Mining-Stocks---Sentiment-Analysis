{
 "cells": [
  {
   "cell_type": "code",
   "execution_count": 1,
   "metadata": {},
   "outputs": [
    {
     "name": "stdout",
     "output_type": "stream",
     "text": [
      "Requirement already satisfied: tweepy in c:\\users\\sande\\anaconda3\\lib\\site-packages (4.5.0)\n",
      "Requirement already satisfied: requests<3,>=2.27.0 in c:\\users\\sande\\anaconda3\\lib\\site-packages (from tweepy) (2.27.1)\n",
      "Requirement already satisfied: requests-oauthlib<2,>=1.0.0 in c:\\users\\sande\\anaconda3\\lib\\site-packages (from tweepy) (1.3.0)\n",
      "Requirement already satisfied: charset-normalizer~=2.0.0 in c:\\users\\sande\\anaconda3\\lib\\site-packages (from requests<3,>=2.27.0->tweepy) (2.0.12)\n",
      "Requirement already satisfied: idna<4,>=2.5 in c:\\users\\sande\\anaconda3\\lib\\site-packages (from requests<3,>=2.27.0->tweepy) (2.10)\n",
      "Requirement already satisfied: certifi>=2017.4.17 in c:\\users\\sande\\anaconda3\\lib\\site-packages (from requests<3,>=2.27.0->tweepy) (2020.12.5)\n",
      "Requirement already satisfied: urllib3<1.27,>=1.21.1 in c:\\users\\sande\\anaconda3\\lib\\site-packages (from requests<3,>=2.27.0->tweepy) (1.26.4)\n",
      "Requirement already satisfied: oauthlib>=3.0.0 in c:\\users\\sande\\anaconda3\\lib\\site-packages (from requests-oauthlib<2,>=1.0.0->tweepy) (3.1.1)\n"
     ]
    }
   ],
   "source": [
    "!pip install tweepy"
   ]
  },
  {
   "cell_type": "code",
   "execution_count": 2,
   "metadata": {},
   "outputs": [
    {
     "name": "stdout",
     "output_type": "stream",
     "text": [
      "Requirement already satisfied: configparser in c:\\users\\sande\\anaconda3\\lib\\site-packages (5.2.0)\n"
     ]
    }
   ],
   "source": [
    "!pip install configparser"
   ]
  },
  {
   "cell_type": "code",
   "execution_count": 1,
   "metadata": {},
   "outputs": [],
   "source": [
    "import tweepy\n",
    "import configparser\n",
    "import pandas as pd\n"
   ]
  },
  {
   "cell_type": "markdown",
   "metadata": {},
   "source": [
    "### Authentication Handling"
   ]
  },
  {
   "cell_type": "code",
   "execution_count": 3,
   "metadata": {},
   "outputs": [],
   "source": [
    "config = configparser.RawConfigParser()\n",
    "config.read('config.ini')\n",
    "\n",
    "api_key = config['twitter']['api_key']\n",
    "api_key_secret =  config['twitter']['api_key_secret']\n",
    "access_token = config['twitter']['access_token']\n",
    "access_token_secret = config['twitter']['access_token_secret']\n",
    "\n",
    "auth = tweepy.OAuthHandler(api_key, api_key_secret)\n",
    "auth.set_access_token(access_token, access_token_secret)\n",
    "\n",
    "api = tweepy.API(auth)\n",
    "\n"
   ]
  },
  {
   "cell_type": "markdown",
   "metadata": {},
   "source": [
    "#### Python environment setup"
   ]
  },
  {
   "cell_type": "code",
   "execution_count": 5,
   "metadata": {},
   "outputs": [],
   "source": [
    "#!pip install requests\n",
    "#!pip install searchtweets"
   ]
  },
  {
   "cell_type": "code",
   "execution_count": 4,
   "metadata": {},
   "outputs": [],
   "source": [
    "import requests\n",
    "import json\n",
    "import datetime\n",
    "bearer_token = config['twitter']['bearer_code']\n",
    "start_time = datetime.datetime(2021,3,9)\n",
    "end_time = datetime.datetime.now(datetime.timezone.utc)"
   ]
  },
  {
   "cell_type": "code",
   "execution_count": 5,
   "metadata": {},
   "outputs": [
    {
     "data": {
      "text/plain": [
       "'2021-03-09T00:00:00'"
      ]
     },
     "execution_count": 5,
     "metadata": {},
     "output_type": "execute_result"
    }
   ],
   "source": [
    "end_time.isoformat()\n",
    "start_time.isoformat()"
   ]
  },
  {
   "cell_type": "code",
   "execution_count": 6,
   "metadata": {},
   "outputs": [],
   "source": [
    "\n",
    "Client = tweepy.Client(bearer_token=bearer_token)\n",
    "\n",
    "# Code to search recent searches limit - 10 to 100\n",
    "# twts_all = Client.search_recent_tweets('S&P-500', end_time = end_time, start_time= start_time, max_results = 100)\n"
   ]
  },
  {
   "cell_type": "code",
   "execution_count": 7,
   "metadata": {},
   "outputs": [],
   "source": [
    "auth = tweepy.OAuthHandler(consumer_key = api_key, consumer_secret=api_key_secret)\n",
    "auth.set_access_token(access_token, access_token_secret)\n",
    "api = tweepy.API(auth)\n"
   ]
  },
  {
   "cell_type": "markdown",
   "metadata": {},
   "source": [
    "Searching on the twitter with query q using api."
   ]
  },
  {
   "cell_type": "code",
   "execution_count": 8,
   "metadata": {},
   "outputs": [],
   "source": [
    "search_reults = api.search_tweets(q = 'S&P-500', lang = 'en', result_type = 'popular', count = 10, tweet_mode=\"extended\")"
   ]
  },
  {
   "cell_type": "code",
   "execution_count": 9,
   "metadata": {},
   "outputs": [],
   "source": [
    "json_data = [r._json for r in search_reults]\n",
    "df = pd.json_normalize(json_data)"
   ]
  },
  {
   "cell_type": "code",
   "execution_count": 15,
   "metadata": {},
   "outputs": [
    {
     "data": {
      "text/html": [
       "<div>\n",
       "<style scoped>\n",
       "    .dataframe tbody tr th:only-of-type {\n",
       "        vertical-align: middle;\n",
       "    }\n",
       "\n",
       "    .dataframe tbody tr th {\n",
       "        vertical-align: top;\n",
       "    }\n",
       "\n",
       "    .dataframe thead th {\n",
       "        text-align: right;\n",
       "    }\n",
       "</style>\n",
       "<table border=\"1\" class=\"dataframe\">\n",
       "  <thead>\n",
       "    <tr style=\"text-align: right;\">\n",
       "      <th></th>\n",
       "      <th>created_at</th>\n",
       "      <th>id</th>\n",
       "      <th>id_str</th>\n",
       "      <th>full_text</th>\n",
       "      <th>truncated</th>\n",
       "      <th>display_text_range</th>\n",
       "      <th>source</th>\n",
       "      <th>in_reply_to_status_id</th>\n",
       "      <th>in_reply_to_status_id_str</th>\n",
       "      <th>in_reply_to_user_id</th>\n",
       "      <th>...</th>\n",
       "      <th>user.profile_text_color</th>\n",
       "      <th>user.profile_use_background_image</th>\n",
       "      <th>user.has_extended_profile</th>\n",
       "      <th>user.default_profile</th>\n",
       "      <th>user.default_profile_image</th>\n",
       "      <th>user.following</th>\n",
       "      <th>user.follow_request_sent</th>\n",
       "      <th>user.notifications</th>\n",
       "      <th>user.translator_type</th>\n",
       "      <th>user.withheld_in_countries</th>\n",
       "    </tr>\n",
       "  </thead>\n",
       "  <tbody>\n",
       "    <tr>\n",
       "      <th>0</th>\n",
       "      <td>Mon Mar 14 00:32:30 +0000 2022</td>\n",
       "      <td>1503167151020158976</td>\n",
       "      <td>1503167151020158976</td>\n",
       "      <td>The S&amp;amp;P 500 is down 11.8% in the first 48 ...</td>\n",
       "      <td>False</td>\n",
       "      <td>[0, 264]</td>\n",
       "      <td>&lt;a href=\"https://mobile.twitter.com\" rel=\"nofo...</td>\n",
       "      <td>None</td>\n",
       "      <td>None</td>\n",
       "      <td>None</td>\n",
       "      <td>...</td>\n",
       "      <td>333333</td>\n",
       "      <td>True</td>\n",
       "      <td>False</td>\n",
       "      <td>False</td>\n",
       "      <td>False</td>\n",
       "      <td>False</td>\n",
       "      <td>False</td>\n",
       "      <td>False</td>\n",
       "      <td>none</td>\n",
       "      <td>[]</td>\n",
       "    </tr>\n",
       "    <tr>\n",
       "      <th>1</th>\n",
       "      <td>Mon Mar 14 00:41:36 +0000 2022</td>\n",
       "      <td>1503169441059725321</td>\n",
       "      <td>1503169441059725321</td>\n",
       "      <td>It feels much worse, but the S&amp;amp;P 500's 13%...</td>\n",
       "      <td>False</td>\n",
       "      <td>[0, 146]</td>\n",
       "      <td>&lt;a href=\"https://mobile.twitter.com\" rel=\"nofo...</td>\n",
       "      <td>None</td>\n",
       "      <td>None</td>\n",
       "      <td>None</td>\n",
       "      <td>...</td>\n",
       "      <td>333333</td>\n",
       "      <td>True</td>\n",
       "      <td>False</td>\n",
       "      <td>False</td>\n",
       "      <td>False</td>\n",
       "      <td>False</td>\n",
       "      <td>False</td>\n",
       "      <td>False</td>\n",
       "      <td>none</td>\n",
       "      <td>[]</td>\n",
       "    </tr>\n",
       "    <tr>\n",
       "      <th>2</th>\n",
       "      <td>Mon Mar 14 04:21:43 +0000 2022</td>\n",
       "      <td>1503224834817671168</td>\n",
       "      <td>1503224834817671168</td>\n",
       "      <td>MSCI China’s risk premium vs the S&amp;amp;P 500 h...</td>\n",
       "      <td>False</td>\n",
       "      <td>[0, 91]</td>\n",
       "      <td>&lt;a href=\"http://twitter.com/download/iphone\" r...</td>\n",
       "      <td>None</td>\n",
       "      <td>None</td>\n",
       "      <td>None</td>\n",
       "      <td>...</td>\n",
       "      <td>333333</td>\n",
       "      <td>True</td>\n",
       "      <td>True</td>\n",
       "      <td>True</td>\n",
       "      <td>False</td>\n",
       "      <td>False</td>\n",
       "      <td>False</td>\n",
       "      <td>False</td>\n",
       "      <td>none</td>\n",
       "      <td>[]</td>\n",
       "    </tr>\n",
       "    <tr>\n",
       "      <th>3</th>\n",
       "      <td>Mon Mar 14 02:39:47 +0000 2022</td>\n",
       "      <td>1503199181728534528</td>\n",
       "      <td>1503199181728534528</td>\n",
       "      <td>The S&amp;amp;P 500 gained 266% during Tom Brady's...</td>\n",
       "      <td>False</td>\n",
       "      <td>[0, 132]</td>\n",
       "      <td>&lt;a href=\"https://mobile.twitter.com\" rel=\"nofo...</td>\n",
       "      <td>None</td>\n",
       "      <td>None</td>\n",
       "      <td>None</td>\n",
       "      <td>...</td>\n",
       "      <td>333333</td>\n",
       "      <td>True</td>\n",
       "      <td>False</td>\n",
       "      <td>True</td>\n",
       "      <td>False</td>\n",
       "      <td>False</td>\n",
       "      <td>False</td>\n",
       "      <td>False</td>\n",
       "      <td>none</td>\n",
       "      <td>[]</td>\n",
       "    </tr>\n",
       "    <tr>\n",
       "      <th>4</th>\n",
       "      <td>Mon Mar 14 16:40:14 +0000 2022</td>\n",
       "      <td>1503410687502082048</td>\n",
       "      <td>1503410687502082048</td>\n",
       "      <td>⚠️BREAKING:\\n\\n*NASDAQ 100 HITS LOW OF THE DAY...</td>\n",
       "      <td>False</td>\n",
       "      <td>[0, 108]</td>\n",
       "      <td>&lt;a href=\"http://twitter.com/download/android\" ...</td>\n",
       "      <td>None</td>\n",
       "      <td>None</td>\n",
       "      <td>None</td>\n",
       "      <td>...</td>\n",
       "      <td>333333</td>\n",
       "      <td>True</td>\n",
       "      <td>False</td>\n",
       "      <td>False</td>\n",
       "      <td>False</td>\n",
       "      <td>False</td>\n",
       "      <td>False</td>\n",
       "      <td>False</td>\n",
       "      <td>none</td>\n",
       "      <td>[]</td>\n",
       "    </tr>\n",
       "    <tr>\n",
       "      <th>5</th>\n",
       "      <td>Mon Mar 14 09:55:01 +0000 2022</td>\n",
       "      <td>1503308712903155713</td>\n",
       "      <td>1503308712903155713</td>\n",
       "      <td>⚠️BREAKING:\\n\\n*DOW FUTURES UP 1.1%, S&amp;amp;P 5...</td>\n",
       "      <td>False</td>\n",
       "      <td>[0, 113]</td>\n",
       "      <td>&lt;a href=\"http://twitter.com/download/android\" ...</td>\n",
       "      <td>None</td>\n",
       "      <td>None</td>\n",
       "      <td>None</td>\n",
       "      <td>...</td>\n",
       "      <td>333333</td>\n",
       "      <td>True</td>\n",
       "      <td>False</td>\n",
       "      <td>False</td>\n",
       "      <td>False</td>\n",
       "      <td>False</td>\n",
       "      <td>False</td>\n",
       "      <td>False</td>\n",
       "      <td>none</td>\n",
       "      <td>[]</td>\n",
       "    </tr>\n",
       "    <tr>\n",
       "      <th>6</th>\n",
       "      <td>Sun Mar 13 21:43:23 +0000 2022</td>\n",
       "      <td>1503124590494728197</td>\n",
       "      <td>1503124590494728197</td>\n",
       "      <td>🚨BELOW ALL-TIME HIGHS:\\n\\n*DOW: -10.7%\\n*S&amp;amp...</td>\n",
       "      <td>False</td>\n",
       "      <td>[0, 121]</td>\n",
       "      <td>&lt;a href=\"https://studio.twitter.com\" rel=\"nofo...</td>\n",
       "      <td>None</td>\n",
       "      <td>None</td>\n",
       "      <td>None</td>\n",
       "      <td>...</td>\n",
       "      <td>333333</td>\n",
       "      <td>True</td>\n",
       "      <td>False</td>\n",
       "      <td>False</td>\n",
       "      <td>False</td>\n",
       "      <td>False</td>\n",
       "      <td>False</td>\n",
       "      <td>False</td>\n",
       "      <td>none</td>\n",
       "      <td>[]</td>\n",
       "    </tr>\n",
       "    <tr>\n",
       "      <th>7</th>\n",
       "      <td>Sun Mar 13 22:21:20 +0000 2022</td>\n",
       "      <td>1503134140912263172</td>\n",
       "      <td>1503134140912263172</td>\n",
       "      <td>S&amp;amp;P 500, Nasdaq &amp;amp; Dow futures all open...</td>\n",
       "      <td>False</td>\n",
       "      <td>[0, 64]</td>\n",
       "      <td>&lt;a href=\"http://twitter.com/download/iphone\" r...</td>\n",
       "      <td>None</td>\n",
       "      <td>None</td>\n",
       "      <td>None</td>\n",
       "      <td>...</td>\n",
       "      <td>333333</td>\n",
       "      <td>True</td>\n",
       "      <td>False</td>\n",
       "      <td>True</td>\n",
       "      <td>False</td>\n",
       "      <td>False</td>\n",
       "      <td>False</td>\n",
       "      <td>False</td>\n",
       "      <td>none</td>\n",
       "      <td>[]</td>\n",
       "    </tr>\n",
       "    <tr>\n",
       "      <th>8</th>\n",
       "      <td>Sun Mar 13 17:56:08 +0000 2022</td>\n",
       "      <td>1503067401507778561</td>\n",
       "      <td>1503067401507778561</td>\n",
       "      <td>Goldman Sachs has lowered its S&amp;amp;P 500 targ...</td>\n",
       "      <td>False</td>\n",
       "      <td>[0, 77]</td>\n",
       "      <td>&lt;a href=\"http://twitter.com/download/iphone\" r...</td>\n",
       "      <td>None</td>\n",
       "      <td>None</td>\n",
       "      <td>None</td>\n",
       "      <td>...</td>\n",
       "      <td>333333</td>\n",
       "      <td>True</td>\n",
       "      <td>False</td>\n",
       "      <td>True</td>\n",
       "      <td>False</td>\n",
       "      <td>False</td>\n",
       "      <td>False</td>\n",
       "      <td>False</td>\n",
       "      <td>none</td>\n",
       "      <td>[]</td>\n",
       "    </tr>\n",
       "    <tr>\n",
       "      <th>9</th>\n",
       "      <td>Mon Mar 14 20:04:35 +0000 2022</td>\n",
       "      <td>1503462113007841284</td>\n",
       "      <td>1503462113007841284</td>\n",
       "      <td>The S&amp;amp;P 500 fell on Monday to kick off an ...</td>\n",
       "      <td>False</td>\n",
       "      <td>[0, 266]</td>\n",
       "      <td>&lt;a href=\"http://wildmoka.com\" rel=\"nofollow\"&gt;W...</td>\n",
       "      <td>None</td>\n",
       "      <td>None</td>\n",
       "      <td>None</td>\n",
       "      <td>...</td>\n",
       "      <td>333333</td>\n",
       "      <td>True</td>\n",
       "      <td>False</td>\n",
       "      <td>False</td>\n",
       "      <td>False</td>\n",
       "      <td>False</td>\n",
       "      <td>False</td>\n",
       "      <td>False</td>\n",
       "      <td>none</td>\n",
       "      <td>[]</td>\n",
       "    </tr>\n",
       "  </tbody>\n",
       "</table>\n",
       "<p>10 rows × 75 columns</p>\n",
       "</div>"
      ],
      "text/plain": [
       "                       created_at                   id               id_str  \\\n",
       "0  Mon Mar 14 00:32:30 +0000 2022  1503167151020158976  1503167151020158976   \n",
       "1  Mon Mar 14 00:41:36 +0000 2022  1503169441059725321  1503169441059725321   \n",
       "2  Mon Mar 14 04:21:43 +0000 2022  1503224834817671168  1503224834817671168   \n",
       "3  Mon Mar 14 02:39:47 +0000 2022  1503199181728534528  1503199181728534528   \n",
       "4  Mon Mar 14 16:40:14 +0000 2022  1503410687502082048  1503410687502082048   \n",
       "5  Mon Mar 14 09:55:01 +0000 2022  1503308712903155713  1503308712903155713   \n",
       "6  Sun Mar 13 21:43:23 +0000 2022  1503124590494728197  1503124590494728197   \n",
       "7  Sun Mar 13 22:21:20 +0000 2022  1503134140912263172  1503134140912263172   \n",
       "8  Sun Mar 13 17:56:08 +0000 2022  1503067401507778561  1503067401507778561   \n",
       "9  Mon Mar 14 20:04:35 +0000 2022  1503462113007841284  1503462113007841284   \n",
       "\n",
       "                                           full_text  truncated  \\\n",
       "0  The S&amp;P 500 is down 11.8% in the first 48 ...      False   \n",
       "1  It feels much worse, but the S&amp;P 500's 13%...      False   \n",
       "2  MSCI China’s risk premium vs the S&amp;P 500 h...      False   \n",
       "3  The S&amp;P 500 gained 266% during Tom Brady's...      False   \n",
       "4  ⚠️BREAKING:\\n\\n*NASDAQ 100 HITS LOW OF THE DAY...      False   \n",
       "5  ⚠️BREAKING:\\n\\n*DOW FUTURES UP 1.1%, S&amp;P 5...      False   \n",
       "6  🚨BELOW ALL-TIME HIGHS:\\n\\n*DOW: -10.7%\\n*S&amp...      False   \n",
       "7  S&amp;P 500, Nasdaq &amp; Dow futures all open...      False   \n",
       "8  Goldman Sachs has lowered its S&amp;P 500 targ...      False   \n",
       "9  The S&amp;P 500 fell on Monday to kick off an ...      False   \n",
       "\n",
       "  display_text_range                                             source  \\\n",
       "0           [0, 264]  <a href=\"https://mobile.twitter.com\" rel=\"nofo...   \n",
       "1           [0, 146]  <a href=\"https://mobile.twitter.com\" rel=\"nofo...   \n",
       "2            [0, 91]  <a href=\"http://twitter.com/download/iphone\" r...   \n",
       "3           [0, 132]  <a href=\"https://mobile.twitter.com\" rel=\"nofo...   \n",
       "4           [0, 108]  <a href=\"http://twitter.com/download/android\" ...   \n",
       "5           [0, 113]  <a href=\"http://twitter.com/download/android\" ...   \n",
       "6           [0, 121]  <a href=\"https://studio.twitter.com\" rel=\"nofo...   \n",
       "7            [0, 64]  <a href=\"http://twitter.com/download/iphone\" r...   \n",
       "8            [0, 77]  <a href=\"http://twitter.com/download/iphone\" r...   \n",
       "9           [0, 266]  <a href=\"http://wildmoka.com\" rel=\"nofollow\">W...   \n",
       "\n",
       "  in_reply_to_status_id in_reply_to_status_id_str in_reply_to_user_id  ...  \\\n",
       "0                  None                      None                None  ...   \n",
       "1                  None                      None                None  ...   \n",
       "2                  None                      None                None  ...   \n",
       "3                  None                      None                None  ...   \n",
       "4                  None                      None                None  ...   \n",
       "5                  None                      None                None  ...   \n",
       "6                  None                      None                None  ...   \n",
       "7                  None                      None                None  ...   \n",
       "8                  None                      None                None  ...   \n",
       "9                  None                      None                None  ...   \n",
       "\n",
       "  user.profile_text_color user.profile_use_background_image  \\\n",
       "0                  333333                              True   \n",
       "1                  333333                              True   \n",
       "2                  333333                              True   \n",
       "3                  333333                              True   \n",
       "4                  333333                              True   \n",
       "5                  333333                              True   \n",
       "6                  333333                              True   \n",
       "7                  333333                              True   \n",
       "8                  333333                              True   \n",
       "9                  333333                              True   \n",
       "\n",
       "  user.has_extended_profile user.default_profile user.default_profile_image  \\\n",
       "0                     False                False                      False   \n",
       "1                     False                False                      False   \n",
       "2                      True                 True                      False   \n",
       "3                     False                 True                      False   \n",
       "4                     False                False                      False   \n",
       "5                     False                False                      False   \n",
       "6                     False                False                      False   \n",
       "7                     False                 True                      False   \n",
       "8                     False                 True                      False   \n",
       "9                     False                False                      False   \n",
       "\n",
       "  user.following  user.follow_request_sent  user.notifications  \\\n",
       "0          False                     False               False   \n",
       "1          False                     False               False   \n",
       "2          False                     False               False   \n",
       "3          False                     False               False   \n",
       "4          False                     False               False   \n",
       "5          False                     False               False   \n",
       "6          False                     False               False   \n",
       "7          False                     False               False   \n",
       "8          False                     False               False   \n",
       "9          False                     False               False   \n",
       "\n",
       "   user.translator_type  user.withheld_in_countries  \n",
       "0                  none                          []  \n",
       "1                  none                          []  \n",
       "2                  none                          []  \n",
       "3                  none                          []  \n",
       "4                  none                          []  \n",
       "5                  none                          []  \n",
       "6                  none                          []  \n",
       "7                  none                          []  \n",
       "8                  none                          []  \n",
       "9                  none                          []  \n",
       "\n",
       "[10 rows x 75 columns]"
      ]
     },
     "execution_count": 15,
     "metadata": {},
     "output_type": "execute_result"
    }
   ],
   "source": [
    "df.head(10)"
   ]
  },
  {
   "cell_type": "code",
   "execution_count": 14,
   "metadata": {},
   "outputs": [
    {
     "name": "stdout",
     "output_type": "stream",
     "text": [
      "**************  0  **************\n",
      "The S&amp;P 500 is down 11.8% in the first 48 trading days of 2022, the 4th worst start to a year in history.\n",
      "\n",
      "The worst 5 starts prior to this year (2009, 2020, 1935, 1933, &amp; 1982) all mounted tremendous comebacks to end the year in strong positive territory. https://t.co/hNDk3tGSZd\n",
      "**************  1  **************\n",
      "It feels much worse, but the S&amp;P 500's 13% max drawdown this year is right in line with the median intra-year drawdown since 1928 (-13%). $SPX https://t.co/VXMwQ7wtzE\n",
      "**************  2  **************\n",
      "MSCI China’s risk premium vs the S&amp;P 500 has surged to the highest in almost six years. https://t.co/dmxTmmKiFC\n",
      "**************  3  **************\n",
      "The S&amp;P 500 gained 266% during Tom Brady's playing career. It lost 7.5% in the short time he was retired. Welcome back @TomBrady https://t.co/QzyNmTgUkq\n",
      "**************  4  **************\n",
      "⚠️BREAKING:\n",
      "\n",
      "*NASDAQ 100 HITS LOW OF THE DAY, DOWN MORE THAN 1%; S&amp;P 500 ERASES GAIN AS TECH SHARES DROP https://t.co/tQz82qW4Ai\n",
      "**************  5  **************\n",
      "⚠️BREAKING:\n",
      "\n",
      "*DOW FUTURES UP 1.1%, S&amp;P 500 E-MINI FUTURES UP 1.1%, NASDAQ FUTURES UP 1%\n",
      "\n",
      "$DIA $SPY $QQQ 🇺🇸 🇺🇸 https://t.co/kgt3x8SHjO\n",
      "**************  6  **************\n",
      "🚨BELOW ALL-TIME HIGHS:\n",
      "\n",
      "*DOW: -10.7%\n",
      "*S&amp;P 500: -12.5% \n",
      "*NASDAQ: -20.6% \n",
      "*RUSSELL 2000: -19.5% \n",
      "\n",
      "$DIA \n",
      "$SPY\n",
      "$QQQ \n",
      "$IWM https://t.co/X1HBZ4uzlO\n",
      "**************  7  **************\n",
      "S&amp;P 500, Nasdaq &amp; Dow futures all open up more than 0.5%\n",
      "**************  8  **************\n",
      "Goldman Sachs has lowered its S&amp;P 500 target for 2022 from 4,900 to 4,700\n",
      "**************  9  **************\n",
      "The S&amp;P 500 fell on Monday to kick off an important week, as oil prices fell sharply and traders monitored the latest developments from the Ukraine-Russia war.\n",
      "\n",
      "The Dow closed flat. \n",
      "The S&amp;P 500 fell 0.74%. \n",
      "The Nasdaq tumbled 2.04%. \n",
      "https://t.co/3ebLg5VceM https://t.co/BAX3orgtXv\n"
     ]
    }
   ],
   "source": [
    "for i in range(10):\n",
    "    print(\"************** \", i,\" **************\" )\n",
    "    print(df.iat[i,3])"
   ]
  },
  {
   "cell_type": "markdown",
   "metadata": {},
   "source": [
    "#### Dataset preparation"
   ]
  },
  {
   "cell_type": "markdown",
   "metadata": {},
   "source": [
    "I have used the dataset for the tweets from this source: [Stock Market Tweet | Sentiment Analysis lexicon](https://datasetsearch.research.google.com/search?src=0&query=stock%20market%20tweet&docid=L2cvMTFsbDY3dzZzag%3D%3D)"
   ]
  },
  {
   "cell_type": "code",
   "execution_count": 13,
   "metadata": {},
   "outputs": [
    {
     "data": {
      "text/html": [
       "<div>\n",
       "<style scoped>\n",
       "    .dataframe tbody tr th:only-of-type {\n",
       "        vertical-align: middle;\n",
       "    }\n",
       "\n",
       "    .dataframe tbody tr th {\n",
       "        vertical-align: top;\n",
       "    }\n",
       "\n",
       "    .dataframe thead th {\n",
       "        text-align: right;\n",
       "    }\n",
       "</style>\n",
       "<table border=\"1\" class=\"dataframe\">\n",
       "  <thead>\n",
       "    <tr style=\"text-align: right;\">\n",
       "      <th></th>\n",
       "      <th>id</th>\n",
       "      <th>created_at</th>\n",
       "      <th>text</th>\n",
       "      <th>sentiment</th>\n",
       "    </tr>\n",
       "  </thead>\n",
       "  <tbody>\n",
       "    <tr>\n",
       "      <th>0</th>\n",
       "      <td>77522</td>\n",
       "      <td>2020-04-15 01:03:46+00:00</td>\n",
       "      <td>RT @RobertBeadles: Yo💥\\nEnter to WIN 1,000 Mon...</td>\n",
       "      <td>positive</td>\n",
       "    </tr>\n",
       "    <tr>\n",
       "      <th>1</th>\n",
       "      <td>661634</td>\n",
       "      <td>2020-06-25 06:20:06+00:00</td>\n",
       "      <td>#SriLanka surcharge on fuel removed!\\n⛽📉\\nThe ...</td>\n",
       "      <td>negative</td>\n",
       "    </tr>\n",
       "    <tr>\n",
       "      <th>2</th>\n",
       "      <td>413231</td>\n",
       "      <td>2020-06-04 15:41:45+00:00</td>\n",
       "      <td>Net issuance increases to fund fiscal programs...</td>\n",
       "      <td>positive</td>\n",
       "    </tr>\n",
       "    <tr>\n",
       "      <th>3</th>\n",
       "      <td>760262</td>\n",
       "      <td>2020-07-03 19:39:35+00:00</td>\n",
       "      <td>RT @bentboolean: How much of Amazon's traffic ...</td>\n",
       "      <td>positive</td>\n",
       "    </tr>\n",
       "    <tr>\n",
       "      <th>4</th>\n",
       "      <td>830153</td>\n",
       "      <td>2020-07-09 14:39:14+00:00</td>\n",
       "      <td>$AMD Ryzen 4000 desktop CPUs looking ‘great’ a...</td>\n",
       "      <td>positive</td>\n",
       "    </tr>\n",
       "  </tbody>\n",
       "</table>\n",
       "</div>"
      ],
      "text/plain": [
       "       id                 created_at  \\\n",
       "0   77522  2020-04-15 01:03:46+00:00   \n",
       "1  661634  2020-06-25 06:20:06+00:00   \n",
       "2  413231  2020-06-04 15:41:45+00:00   \n",
       "3  760262  2020-07-03 19:39:35+00:00   \n",
       "4  830153  2020-07-09 14:39:14+00:00   \n",
       "\n",
       "                                                text sentiment  \n",
       "0  RT @RobertBeadles: Yo💥\\nEnter to WIN 1,000 Mon...  positive  \n",
       "1  #SriLanka surcharge on fuel removed!\\n⛽📉\\nThe ...  negative  \n",
       "2  Net issuance increases to fund fiscal programs...  positive  \n",
       "3  RT @bentboolean: How much of Amazon's traffic ...  positive  \n",
       "4  $AMD Ryzen 4000 desktop CPUs looking ‘great’ a...  positive  "
      ]
     },
     "execution_count": 13,
     "metadata": {},
     "output_type": "execute_result"
    }
   ],
   "source": [
    "dfLabelled = pd.read_csv('tweets_labelled_09042020_16072020.csv', sep = ';')\n",
    "dfLabelled.head()"
   ]
  },
  {
   "cell_type": "markdown",
   "metadata": {},
   "source": [
    "I will use the remaining dataframe and apply sentiment analysis to obtain the sentiment from the tweet. "
   ]
  },
  {
   "cell_type": "code",
   "execution_count": 75,
   "metadata": {},
   "outputs": [
    {
     "name": "stderr",
     "output_type": "stream",
     "text": [
      "[nltk_data] Downloading package stopwords to\n",
      "[nltk_data]     C:\\Users\\sande\\AppData\\Roaming\\nltk_data...\n",
      "[nltk_data]   Package stopwords is already up-to-date!\n",
      "[nltk_data] Downloading package punkt to\n",
      "[nltk_data]     C:\\Users\\sande\\AppData\\Roaming\\nltk_data...\n",
      "[nltk_data]   Package punkt is already up-to-date!\n",
      "[nltk_data] Downloading package wordnet to\n",
      "[nltk_data]     C:\\Users\\sande\\AppData\\Roaming\\nltk_data...\n",
      "[nltk_data]   Package wordnet is already up-to-date!\n",
      " 50%|█████     | 5/10 [00:18<00:18,  3.61s/it]\n"
     ]
    },
    {
     "ename": "KeyboardInterrupt",
     "evalue": "",
     "output_type": "error",
     "traceback": [
      "\u001b[1;31m---------------------------------------------------------------------------\u001b[0m",
      "\u001b[1;31mKeyboardInterrupt\u001b[0m                         Traceback (most recent call last)",
      "\u001b[1;32m<ipython-input-75-b9c5c6e2bc2b>\u001b[0m in \u001b[0;36m<module>\u001b[1;34m\u001b[0m\n\u001b[0;32m     23\u001b[0m \u001b[1;32mfrom\u001b[0m \u001b[0mtqdm\u001b[0m \u001b[1;32mimport\u001b[0m \u001b[0mtqdm\u001b[0m\u001b[1;33m\u001b[0m\u001b[1;33m\u001b[0m\u001b[0m\n\u001b[0;32m     24\u001b[0m \u001b[1;32mfor\u001b[0m \u001b[0mi\u001b[0m \u001b[1;32min\u001b[0m \u001b[0mtqdm\u001b[0m\u001b[1;33m(\u001b[0m\u001b[0mrange\u001b[0m\u001b[1;33m(\u001b[0m\u001b[1;36m10\u001b[0m\u001b[1;33m)\u001b[0m\u001b[1;33m)\u001b[0m\u001b[1;33m:\u001b[0m\u001b[1;33m\u001b[0m\u001b[1;33m\u001b[0m\u001b[0m\n\u001b[1;32m---> 25\u001b[1;33m     \u001b[0msleep\u001b[0m\u001b[1;33m(\u001b[0m\u001b[1;36m3\u001b[0m\u001b[1;33m)\u001b[0m\u001b[1;33m\u001b[0m\u001b[1;33m\u001b[0m\u001b[0m\n\u001b[0m",
      "\u001b[1;31mKeyboardInterrupt\u001b[0m: "
     ]
    }
   ],
   "source": [
    "import numpy as np\n",
    "import os\n",
    "import warnings\n",
    "%matplotlib inline\n",
    "import matplotlib.pyplot as plt\n",
    "import seaborn as sns\n",
    "sns.set()\n",
    "\n",
    "from pprint import pprint\n",
    "from datetime import datetime\n",
    "import collections\n",
    "import re\n",
    "\n",
    "import nltk\n",
    "nltk.download('stopwords')\n",
    "nltk.download('punkt')\n",
    "nltk.download('wordnet')\n",
    "from nltk.corpus import wordnet, stopwords\n",
    "from nltk.stem import WordNetLemmatizer\n",
    "from nltk.tokenize import word_tokenize\n",
    "\n",
    "from time import sleep\n",
    "from tqdm import tqdm\n"
   ]
  },
  {
   "cell_type": "code",
   "execution_count": 15,
   "metadata": {},
   "outputs": [
    {
     "name": "stdout",
     "output_type": "stream",
     "text": [
      "Requirement already satisfied: wordcloud in c:\\users\\sande\\anaconda3\\lib\\site-packages (1.8.1)\n",
      "Requirement already satisfied: matplotlib in c:\\users\\sande\\anaconda3\\lib\\site-packages (from wordcloud) (3.3.4)\n",
      "Requirement already satisfied: pillow in c:\\users\\sande\\anaconda3\\lib\\site-packages (from wordcloud) (8.2.0)\n",
      "Requirement already satisfied: numpy>=1.6.1 in c:\\users\\sande\\anaconda3\\lib\\site-packages (from wordcloud) (1.20.1)\n",
      "Requirement already satisfied: pyparsing!=2.0.4,!=2.1.2,!=2.1.6,>=2.0.3 in c:\\users\\sande\\anaconda3\\lib\\site-packages (from matplotlib->wordcloud) (2.4.7)\n",
      "Requirement already satisfied: kiwisolver>=1.0.1 in c:\\users\\sande\\anaconda3\\lib\\site-packages (from matplotlib->wordcloud) (1.3.1)\n",
      "Requirement already satisfied: cycler>=0.10 in c:\\users\\sande\\anaconda3\\lib\\site-packages (from matplotlib->wordcloud) (0.10.0)\n",
      "Requirement already satisfied: python-dateutil>=2.1 in c:\\users\\sande\\anaconda3\\lib\\site-packages (from matplotlib->wordcloud) (2.8.1)\n",
      "Requirement already satisfied: six in c:\\users\\sande\\anaconda3\\lib\\site-packages (from cycler>=0.10->matplotlib->wordcloud) (1.15.0)\n"
     ]
    }
   ],
   "source": [
    "!pip install wordcloud"
   ]
  },
  {
   "cell_type": "code",
   "execution_count": 16,
   "metadata": {},
   "outputs": [],
   "source": [
    "from wordcloud import WordCloud"
   ]
  },
  {
   "cell_type": "code",
   "execution_count": 74,
   "metadata": {},
   "outputs": [
    {
     "data": {
      "text/html": [
       "<div>\n",
       "<style scoped>\n",
       "    .dataframe tbody tr th:only-of-type {\n",
       "        vertical-align: middle;\n",
       "    }\n",
       "\n",
       "    .dataframe tbody tr th {\n",
       "        vertical-align: top;\n",
       "    }\n",
       "\n",
       "    .dataframe thead th {\n",
       "        text-align: right;\n",
       "    }\n",
       "</style>\n",
       "<table border=\"1\" class=\"dataframe\">\n",
       "  <thead>\n",
       "    <tr style=\"text-align: right;\">\n",
       "      <th></th>\n",
       "      <th>created_at</th>\n",
       "      <th>full_text</th>\n",
       "    </tr>\n",
       "    <tr>\n",
       "      <th>id</th>\n",
       "      <th></th>\n",
       "      <th></th>\n",
       "    </tr>\n",
       "  </thead>\n",
       "  <tbody>\n",
       "    <tr>\n",
       "      <th>1</th>\n",
       "      <td>2020-04-09 23:59:51+00:00</td>\n",
       "      <td>@KennyDegu very very little volume. With $10T ...</td>\n",
       "    </tr>\n",
       "    <tr>\n",
       "      <th>2</th>\n",
       "      <td>2020-04-09 23:58:55+00:00</td>\n",
       "      <td>#ES_F achieved Target 2780 closing above 50% #...</td>\n",
       "    </tr>\n",
       "    <tr>\n",
       "      <th>3</th>\n",
       "      <td>2020-04-09 23:58:52+00:00</td>\n",
       "      <td>RT @KimbleCharting: Silver/Gold indicator crea...</td>\n",
       "    </tr>\n",
       "    <tr>\n",
       "      <th>4</th>\n",
       "      <td>2020-04-09 23:58:27+00:00</td>\n",
       "      <td>@Issaquahfunds Hedged our $MSFT position into ...</td>\n",
       "    </tr>\n",
       "    <tr>\n",
       "      <th>5</th>\n",
       "      <td>2020-04-09 23:57:59+00:00</td>\n",
       "      <td>RT @zipillinois: 3 Surprisingly Controversial ...</td>\n",
       "    </tr>\n",
       "  </tbody>\n",
       "</table>\n",
       "</div>"
      ],
      "text/plain": [
       "                   created_at  \\\n",
       "id                              \n",
       "1   2020-04-09 23:59:51+00:00   \n",
       "2   2020-04-09 23:58:55+00:00   \n",
       "3   2020-04-09 23:58:52+00:00   \n",
       "4   2020-04-09 23:58:27+00:00   \n",
       "5   2020-04-09 23:57:59+00:00   \n",
       "\n",
       "                                            full_text  \n",
       "id                                                     \n",
       "1   @KennyDegu very very little volume. With $10T ...  \n",
       "2   #ES_F achieved Target 2780 closing above 50% #...  \n",
       "3   RT @KimbleCharting: Silver/Gold indicator crea...  \n",
       "4   @Issaquahfunds Hedged our $MSFT position into ...  \n",
       "5   RT @zipillinois: 3 Surprisingly Controversial ...  "
      ]
     },
     "execution_count": 74,
     "metadata": {},
     "output_type": "execute_result"
    }
   ],
   "source": [
    "dfRemaining = pd.read_csv('tweets_remaining_09042020_16072020.csv', sep = ';').set_index('id')\n",
    "dfRemaining.head()"
   ]
  },
  {
   "cell_type": "code",
   "execution_count": 110,
   "metadata": {},
   "outputs": [
    {
     "data": {
      "text/html": [
       "<div>\n",
       "<style scoped>\n",
       "    .dataframe tbody tr th:only-of-type {\n",
       "        vertical-align: middle;\n",
       "    }\n",
       "\n",
       "    .dataframe tbody tr th {\n",
       "        vertical-align: top;\n",
       "    }\n",
       "\n",
       "    .dataframe thead th {\n",
       "        text-align: right;\n",
       "    }\n",
       "</style>\n",
       "<table border=\"1\" class=\"dataframe\">\n",
       "  <thead>\n",
       "    <tr style=\"text-align: right;\">\n",
       "      <th></th>\n",
       "      <th>created_at</th>\n",
       "      <th>full_text</th>\n",
       "    </tr>\n",
       "    <tr>\n",
       "      <th>id</th>\n",
       "      <th></th>\n",
       "      <th></th>\n",
       "    </tr>\n",
       "  </thead>\n",
       "  <tbody>\n",
       "    <tr>\n",
       "      <th>938668</th>\n",
       "      <td>2020-07-16 00:00:25+00:00</td>\n",
       "      <td>RT @MadMraket: We tend to spend lot of time in...</td>\n",
       "    </tr>\n",
       "    <tr>\n",
       "      <th>938669</th>\n",
       "      <td>2020-07-16 00:00:23+00:00</td>\n",
       "      <td>You \\n\\n$SPX $SPY #ES_F</td>\n",
       "    </tr>\n",
       "    <tr>\n",
       "      <th>938670</th>\n",
       "      <td>2020-07-16 00:00:23+00:00</td>\n",
       "      <td>$KO Coca-Cola #Options #maxpain Chart, Open In...</td>\n",
       "    </tr>\n",
       "    <tr>\n",
       "      <th>938671</th>\n",
       "      <td>2020-07-16 00:00:06+00:00</td>\n",
       "      <td>Here's a dividends watchlist \\nfor the 01/04/0...</td>\n",
       "    </tr>\n",
       "    <tr>\n",
       "      <th>938672</th>\n",
       "      <td>2020-07-16 00:00:00+00:00</td>\n",
       "      <td>$AAL $TWTR $SPCE $AZN $ERI $RCL $JNJ $AA $SNBR...</td>\n",
       "    </tr>\n",
       "  </tbody>\n",
       "</table>\n",
       "</div>"
      ],
      "text/plain": [
       "                       created_at  \\\n",
       "id                                  \n",
       "938668  2020-07-16 00:00:25+00:00   \n",
       "938669  2020-07-16 00:00:23+00:00   \n",
       "938670  2020-07-16 00:00:23+00:00   \n",
       "938671  2020-07-16 00:00:06+00:00   \n",
       "938672  2020-07-16 00:00:00+00:00   \n",
       "\n",
       "                                                full_text  \n",
       "id                                                         \n",
       "938668  RT @MadMraket: We tend to spend lot of time in...  \n",
       "938669                            You \\n\\n$SPX $SPY #ES_F  \n",
       "938670  $KO Coca-Cola #Options #maxpain Chart, Open In...  \n",
       "938671  Here's a dividends watchlist \\nfor the 01/04/0...  \n",
       "938672  $AAL $TWTR $SPCE $AZN $ERI $RCL $JNJ $AA $SNBR...  "
      ]
     },
     "execution_count": 110,
     "metadata": {},
     "output_type": "execute_result"
    }
   ],
   "source": [
    "dfRemaining.tail()"
   ]
  },
  {
   "cell_type": "markdown",
   "metadata": {},
   "source": [
    "#### Quick view of the full tweets  "
   ]
  },
  {
   "cell_type": "code",
   "execution_count": 76,
   "metadata": {},
   "outputs": [
    {
     "name": "stderr",
     "output_type": "stream",
     "text": [
      "100%|██████████| 5/5 [00:00<00:00, 625.68it/s]"
     ]
    },
    {
     "name": "stdout",
     "output_type": "stream",
     "text": [
      "(\"@KennyDegu very very little volume. With $10T you'd think they could have \"\n",
      " '$SPX  trading at 10,000 by now.')\n",
      "('#ES_F achieved Target 2780 closing above 50% #Fibonacci  level, momentum '\n",
      " 'still up. possible push towards 2842-2886 next week. $SPX $SPY  #tradign '\n",
      " '#futures https://t.co/wD2A0102nC')\n",
      "('RT @KimbleCharting: Silver/Gold indicator creates one of the largest bullish '\n",
      " 'reversal patterns in decades while testing multi-decade suppor…')\n",
      "('@Issaquahfunds Hedged our $MSFT position into close. Seemed to be getting '\n",
      " 'lazy over this past week.')\n",
      "(\"RT @zipillinois: 3 Surprisingly Controversial Stocks in Donald Trump's \"\n",
      " 'Portfolio @themotleyfool #stocks $GILD $MO https://t.co/d9hlJnSRN3')\n"
     ]
    },
    {
     "name": "stderr",
     "output_type": "stream",
     "text": [
      "\n"
     ]
    }
   ],
   "source": [
    "for i in tqdm(range(5)):\n",
    "    pprint(dfRemaining.iat[i,1])"
   ]
  },
  {
   "cell_type": "code",
   "execution_count": 77,
   "metadata": {},
   "outputs": [
    {
     "data": {
      "text/plain": [
       "923673"
      ]
     },
     "execution_count": 77,
     "metadata": {},
     "output_type": "execute_result"
    }
   ],
   "source": [
    "cols = dfRemaining.shape[0]\n",
    "cols"
   ]
  },
  {
   "cell_type": "code",
   "execution_count": null,
   "metadata": {},
   "outputs": [
    {
     "data": {
      "text/plain": [
       "(9236, 2)"
      ]
     },
     "execution_count": 78,
     "metadata": {},
     "output_type": "execute_result"
    }
   ],
   "source": [
    "dfRemaining_ = dfRemaining[:int(cols*0.01)]\n",
    "dfRemaining_.shape"
   ]
  },
  {
   "cell_type": "code",
   "execution_count": 79,
   "metadata": {},
   "outputs": [],
   "source": [
    "dfRemaining_ = dfRemaining"
   ]
  },
  {
   "cell_type": "code",
   "execution_count": 81,
   "metadata": {},
   "outputs": [
    {
     "name": "stderr",
     "output_type": "stream",
     "text": [
      "100%|██████████| 923673/923673 [01:42<00:00, 9034.34it/s] \n"
     ]
    }
   ],
   "source": [
    "tick_re = re.compile(r'(^\\$[A-Z,&,0-9]{1,6})')\n",
    "hash_re = re.compile(r'#\\w+')\n",
    "\n",
    "tick_dic = collections.defaultdict(int)\n",
    "hash_dic = collections.defaultdict(int)\n",
    "\n",
    "for t in tqdm(dfRemaining_['full_text']):\n",
    "    for w in t.split():\n",
    "        if tick_re.fullmatch(w):\n",
    "            tick_dic[w[1:]] += 1\n",
    "        \n",
    "        w = w.lower()\n",
    "        if hash_re.fullmatch(w):\n",
    "            hash_dic[w] +=1"
   ]
  },
  {
   "cell_type": "code",
   "execution_count": 82,
   "metadata": {},
   "outputs": [
    {
     "data": {
      "text/html": [
       "<div>\n",
       "<style scoped>\n",
       "    .dataframe tbody tr th:only-of-type {\n",
       "        vertical-align: middle;\n",
       "    }\n",
       "\n",
       "    .dataframe tbody tr th {\n",
       "        vertical-align: top;\n",
       "    }\n",
       "\n",
       "    .dataframe thead th {\n",
       "        text-align: right;\n",
       "    }\n",
       "</style>\n",
       "<table border=\"1\" class=\"dataframe\">\n",
       "  <thead>\n",
       "    <tr style=\"text-align: right;\">\n",
       "      <th></th>\n",
       "      <th>count</th>\n",
       "    </tr>\n",
       "  </thead>\n",
       "  <tbody>\n",
       "    <tr>\n",
       "      <th>SPX</th>\n",
       "      <td>131745</td>\n",
       "    </tr>\n",
       "    <tr>\n",
       "      <th>AAPL</th>\n",
       "      <td>91959</td>\n",
       "    </tr>\n",
       "    <tr>\n",
       "      <th>SPY</th>\n",
       "      <td>86173</td>\n",
       "    </tr>\n",
       "    <tr>\n",
       "      <th>AMZN</th>\n",
       "      <td>81800</td>\n",
       "    </tr>\n",
       "    <tr>\n",
       "      <th>FB</th>\n",
       "      <td>66527</td>\n",
       "    </tr>\n",
       "  </tbody>\n",
       "</table>\n",
       "</div>"
      ],
      "text/plain": [
       "       count\n",
       "SPX   131745\n",
       "AAPL   91959\n",
       "SPY    86173\n",
       "AMZN   81800\n",
       "FB     66527"
      ]
     },
     "execution_count": 82,
     "metadata": {},
     "output_type": "execute_result"
    }
   ],
   "source": [
    "tick_df = pd.DataFrame.from_dict(tick_dic, orient = 'index').rename(columns={0: 'count'}).sort_values('count',ascending = False)\n",
    "tick_df.head()"
   ]
  },
  {
   "cell_type": "code",
   "execution_count": 83,
   "metadata": {},
   "outputs": [
    {
     "data": {
      "text/html": [
       "<div>\n",
       "<style scoped>\n",
       "    .dataframe tbody tr th:only-of-type {\n",
       "        vertical-align: middle;\n",
       "    }\n",
       "\n",
       "    .dataframe tbody tr th {\n",
       "        vertical-align: top;\n",
       "    }\n",
       "\n",
       "    .dataframe thead th {\n",
       "        text-align: right;\n",
       "    }\n",
       "</style>\n",
       "<table border=\"1\" class=\"dataframe\">\n",
       "  <thead>\n",
       "    <tr style=\"text-align: right;\">\n",
       "      <th></th>\n",
       "      <th>count</th>\n",
       "    </tr>\n",
       "  </thead>\n",
       "  <tbody>\n",
       "    <tr>\n",
       "      <th>#stocks</th>\n",
       "      <td>254921</td>\n",
       "    </tr>\n",
       "    <tr>\n",
       "      <th>#stockmarket</th>\n",
       "      <td>63690</td>\n",
       "    </tr>\n",
       "    <tr>\n",
       "      <th>#trading</th>\n",
       "      <td>58899</td>\n",
       "    </tr>\n",
       "    <tr>\n",
       "      <th>#investing</th>\n",
       "      <td>54481</td>\n",
       "    </tr>\n",
       "    <tr>\n",
       "      <th>#investment</th>\n",
       "      <td>23150</td>\n",
       "    </tr>\n",
       "  </tbody>\n",
       "</table>\n",
       "</div>"
      ],
      "text/plain": [
       "               count\n",
       "#stocks       254921\n",
       "#stockmarket   63690\n",
       "#trading       58899\n",
       "#investing     54481\n",
       "#investment    23150"
      ]
     },
     "execution_count": 83,
     "metadata": {},
     "output_type": "execute_result"
    }
   ],
   "source": [
    "word_df = pd.DataFrame.from_dict(hash_dic,orient='index').rename(columns={0:'count'}).sort_values('count', ascending = False)\n",
    "word_df.head()"
   ]
  },
  {
   "cell_type": "code",
   "execution_count": 84,
   "metadata": {},
   "outputs": [
    {
     "data": {
      "image/png": "[encoded data removed]",
      "text/plain": [
       "<Figure size 1080x720 with 2 Axes>"
      ]
     },
     "metadata": {},
     "output_type": "display_data"
    },
    {
     "data": {
      "text/plain": [
       "<Figure size 1800x1200 with 0 Axes>"
      ]
     },
     "metadata": {},
     "output_type": "display_data"
    }
   ],
   "source": [
    "fig, ax = plt.subplots(1,2, figsize = (15,10) )\n",
    "plt.rc('font', size = 20)\n",
    "\n",
    "plt.suptitle('Tickers and Hashtags', )\n",
    "plt.subplots_adjust(wspace=0.4)\n",
    "\n",
    "sns.set(font_scale = 1.5)\n",
    "sns.barplot(x = tick_df['count'][:20], y = tick_df.index[:20], ax = ax[0])\n",
    "ax[0].set_title('Top 20 ticker')\n",
    "\n",
    "sns.barplot(x = word_df['count'][:20], y = word_df.index[:20], ax = ax[1])\n",
    "ax[1].set_title('Top 20 hashtags')\n",
    "\n",
    "plt.figure(dpi = 300);"
   ]
  },
  {
   "cell_type": "markdown",
   "metadata": {},
   "source": [
    "### Preprocessing the wordCloud now\n",
    "\n",
    "* Instead of deleting the emoji I will convert it into text and use it as a feature for SA.\n",
    "* Removing the urls.\n",
    "* Performing Lemmatization\n",
    "* deleting the stop words."
   ]
  },
  {
   "cell_type": "markdown",
   "metadata": {},
   "source": [
    "##### Handling emojis now"
   ]
  },
  {
   "cell_type": "code",
   "execution_count": 100,
   "metadata": {},
   "outputs": [],
   "source": [
    "# !pip install emot\n",
    "# !pip install numba\n",
    "import re\n",
    "import pickle\n",
    "import timeit\n",
    "from numba import jit\n",
    "\n",
    "from emot.emo_unicode import UNICODE_EMOJI # For emojis\n",
    "from emot.emo_unicode import EMOTICONS_EMO # For EMOTICONS\n",
    "\n"
   ]
  },
  {
   "cell_type": "code",
   "execution_count": 86,
   "metadata": {},
   "outputs": [],
   "source": [
    "with open('Emoji_Dict.p', 'rb') as fp:\n",
    "    emoj_dic = pickle.load(fp)\n",
    "emoj_dic = {v:k for k, v in emoj_dic.items()}\n",
    "\n",
    "\n",
    "def emo_to_text(text):\n",
    "    for e in emoj_dic:\n",
    "        text = re.sub(r'('+e+')', \"_\".join(emoj_dic[e].replace(\",\", \" \").replace(':', \" \").split()), text)\n",
    "    return text\n"
   ]
  },
  {
   "cell_type": "markdown",
   "metadata": {},
   "source": [
    "checking the functionality of emo_to_text() on tweets:"
   ]
  },
  {
   "cell_type": "code",
   "execution_count": 87,
   "metadata": {},
   "outputs": [
    {
     "data": {
      "text/plain": [
       "'RT @TDANetwork: 📽️ #TheWatchList panel assesses the big questions $AAPL will face over the next 6 months. 🍎📱\\n\\n@LanceUlanoff and @mattswider…'"
      ]
     },
     "execution_count": 87,
     "metadata": {},
     "output_type": "execute_result"
    }
   ],
   "source": [
    "dfRemaining_['full_text'][13]"
   ]
  },
  {
   "cell_type": "code",
   "execution_count": 104,
   "metadata": {},
   "outputs": [
    {
     "data": {
      "text/plain": [
       "'RT @TDANetwork: film_projector️ #TheWatchList panel assesses the big questions $AAPL will face over the next 6 months. red_applemobile_phone\\n\\n@LanceUlanoff and @mattswider…'"
      ]
     },
     "execution_count": 104,
     "metadata": {},
     "output_type": "execute_result"
    }
   ],
   "source": [
    "emo_to_text(dfRemaining['full_text'][13])"
   ]
  },
  {
   "cell_type": "markdown",
   "metadata": {},
   "source": [
    "Converting all the tweet --> emoji to text"
   ]
  },
  {
   "cell_type": "code",
   "execution_count": 108,
   "metadata": {},
   "outputs": [
    {
     "data": {
      "text/plain": [
       "id\n",
       "1    @KennyDegu very very little volume. With $10T ...\n",
       "2    #ES_F achieved Target 2780 closing above 50% #...\n",
       "Name: full_text, dtype: object"
      ]
     },
     "execution_count": 108,
     "metadata": {},
     "output_type": "execute_result"
    }
   ],
   "source": [
    "dfRemaining_['full_text'][:2].apply(emo_to_text)"
   ]
  },
  {
   "cell_type": "code",
   "execution_count": 109,
   "metadata": {},
   "outputs": [
    {
     "data": {
      "text/plain": [
       "(923673, 2)"
      ]
     },
     "execution_count": 109,
     "metadata": {},
     "output_type": "execute_result"
    }
   ],
   "source": [
    "dfRemaining_.shape"
   ]
  },
  {
   "cell_type": "code",
   "execution_count": 105,
   "metadata": {},
   "outputs": [
    {
     "ename": "AttributeError",
     "evalue": "'str' object has no attribute 'apply'",
     "output_type": "error",
     "traceback": [
      "\u001b[1;31m---------------------------------------------------------------------------\u001b[0m",
      "\u001b[1;31mAttributeError\u001b[0m                            Traceback (most recent call last)",
      "\u001b[1;32m<ipython-input-105-ecfd0229a077>\u001b[0m in \u001b[0;36m<module>\u001b[1;34m\u001b[0m\n\u001b[0;32m      1\u001b[0m \u001b[0mstart\u001b[0m \u001b[1;33m=\u001b[0m \u001b[0mtimeit\u001b[0m\u001b[1;33m.\u001b[0m\u001b[0mdefault_timer\u001b[0m\u001b[1;33m(\u001b[0m\u001b[1;33m)\u001b[0m\u001b[1;33m\u001b[0m\u001b[1;33m\u001b[0m\u001b[0m\n\u001b[1;32m----> 2\u001b[1;33m \u001b[0mdfRemaining_\u001b[0m \u001b[1;33m=\u001b[0m \u001b[0mdfRemaining_\u001b[0m\u001b[1;33m[\u001b[0m\u001b[1;34m'full_text'\u001b[0m\u001b[1;33m]\u001b[0m\u001b[1;33m[\u001b[0m\u001b[1;36m1\u001b[0m\u001b[1;33m]\u001b[0m\u001b[1;33m.\u001b[0m\u001b[0mapply\u001b[0m\u001b[1;33m(\u001b[0m\u001b[0memo_to_text\u001b[0m\u001b[1;33m)\u001b[0m\u001b[1;33m\u001b[0m\u001b[1;33m\u001b[0m\u001b[0m\n\u001b[0m\u001b[0;32m      3\u001b[0m \u001b[0mcheck1\u001b[0m \u001b[1;33m=\u001b[0m \u001b[0mtimeit\u001b[0m\u001b[1;33m.\u001b[0m\u001b[0mdefault_timer\u001b[0m\u001b[1;33m(\u001b[0m\u001b[1;33m)\u001b[0m\u001b[1;33m\u001b[0m\u001b[1;33m\u001b[0m\u001b[0m\n\u001b[0;32m      4\u001b[0m \u001b[0mdfRemaining_\u001b[0m\u001b[1;33m.\u001b[0m\u001b[0mto_csv\u001b[0m\u001b[1;33m(\u001b[0m\u001b[1;34m'updated_emoji_replaced_text.csv'\u001b[0m\u001b[1;33m,\u001b[0m \u001b[0mencoding\u001b[0m \u001b[1;33m=\u001b[0m \u001b[1;34m'utf-8'\u001b[0m\u001b[1;33m)\u001b[0m\u001b[1;33m\u001b[0m\u001b[1;33m\u001b[0m\u001b[0m\n\u001b[0;32m      5\u001b[0m \u001b[0mcheck2\u001b[0m \u001b[1;33m=\u001b[0m \u001b[0mtimeit\u001b[0m\u001b[1;33m.\u001b[0m\u001b[0mdefault_timer\u001b[0m\u001b[1;33m(\u001b[0m\u001b[1;33m)\u001b[0m\u001b[1;33m\u001b[0m\u001b[1;33m\u001b[0m\u001b[0m\n",
      "\u001b[1;31mAttributeError\u001b[0m: 'str' object has no attribute 'apply'"
     ]
    }
   ],
   "source": [
    "start = timeit.default_timer()\n",
    "dfRemaining_ = dfRemaining_['full_text'][1].apply(emo_to_text)\n",
    "check1 = timeit.default_timer()\n",
    "dfRemaining_.to_csv('updated_emoji_replaced_text.csv', encoding = 'utf-8')\n",
    "check2 = timeit.default_timer()\n",
    "\n",
    "print('Time taken to complete emoji conversion: ', check1 - start) "
   ]
  },
  {
   "cell_type": "code",
   "execution_count": null,
   "metadata": {},
   "outputs": [],
   "source": []
  },
  {
   "cell_type": "code",
   "execution_count": null,
   "metadata": {},
   "outputs": [],
   "source": [
    "char_re = re.compile(r'[^a-zA-Z\\s]') # keeps a-z, A-Z & space symbols\n",
    "handle_re = re.compile(r'@\\w+') # detects the handles starting with @\n",
    "url_re = re.compile(r'(https?:\\/\\/(?:www\\.|(?!www))[a-zA-Z0-9][a-zA-Z0-9-]+[a-zA-Z0-9]\\.[^\\s]{2,}|www\\.[a-zA-Z0-9][a-zA-Z0-9-]+[a-zA-Z0-9]\\.[^\\s]{2,}|https?:\\/\\/(?:www\\.|(?!www))[a-zA-Z0-9]+\\.[^\\s]{2,}|www\\.[a-zA-Z0-9]+\\.[^\\s]{2,})')\n",
    "pic_re = re.compile(r'pic\\.twitter\\.com/.{10}')\n",
    "spl_re = re.compile(r'(&amp;|&gt;|&lt;)') #special signs\n",
    "tag_re = re.compile(r'<.*?>')"
   ]
  },
  {
   "cell_type": "markdown",
   "metadata": {},
   "source": [
    "Handling Stopwords"
   ]
  },
  {
   "cell_type": "markdown",
   "metadata": {},
   "source": [
    "stopwords = set(stopwords.words('english')).union({'rt', 'retweet', 'RT', 'Retweet', 'RETWEET'})"
   ]
  },
  {
   "cell_type": "markdown",
   "metadata": {},
   "source": [
    "Lemmatization"
   ]
  },
  {
   "cell_type": "code",
   "execution_count": null,
   "metadata": {},
   "outputs": [],
   "source": [
    "lemmatizer = WordNetLemmatizer()"
   ]
  },
  {
   "cell_type": "code",
   "execution_count": null,
   "metadata": {},
   "outputs": [],
   "source": [
    "def hashtag(t):\n",
    "    return hash_re.sub(' ', t)\n",
    "\n",
    "def remove_ticker(phrase):\n",
    "    return tick_re.sub('', phrase)\n",
    "    \n",
    "def specialcode(phrase):\n",
    "    return spl_re.sub(' ', phrase)\n",
    "\n",
    "# def emoji(phrase):\n",
    "#     return emoji_re.sub(' ', phrase)\n",
    "\n",
    "def url(phrase):\n",
    "    return url_re.sub('', phrase)\n",
    "\n",
    "def pic(phrase):\n",
    "    return pic_re.sub('', phrase)\n",
    "\n",
    "def html_tag(phrase):\n",
    "    return tag_re.sub(' ', phrase)\n",
    "\n",
    "def handle(phrase):\n",
    "    return handle_re.sub('', phrase)"
   ]
  },
  {
   "cell_type": "code",
   "execution_count": null,
   "metadata": {},
   "outputs": [],
   "source": [
    "def decontracted(phrase):\n",
    "    # specific\n",
    "    phrase = re.sub(r\"won\\'t\", \"will not\", phrase)\n",
    "    phrase = re.sub(r\"can\\'t\", \"can not\", phrase)\n",
    "    \n",
    "    # DIS, ticker symbol of Disney, is interpreted as the plural of \"DI\" \n",
    "    # in WordCloud, so I converted it to Disney\n",
    "    phrase = re.sub('DIS', 'Disney', phrase)\n",
    "\n",
    "    # general\n",
    "    phrase = re.sub(r\"n\\'t\", \" not\", phrase)\n",
    "    phrase = re.sub(r\"\\'re\", \" are\", phrase)\n",
    "    phrase = re.sub(r\"(he|He)\\'s\", \"he is\", phrase)\n",
    "    phrase = re.sub(r\"(she|She)\\'s\", \"she is\", phrase)\n",
    "    phrase = re.sub(r\"(it|It)\\'s\", \"it is\", phrase)\n",
    "    phrase = re.sub(r\"\\'d\", \" would\", phrase)\n",
    "    phrase = re.sub(r\"\\'ll\", \" will\", phrase)\n",
    "    phrase = re.sub(r\"\\'t\", \" not\", phrase)\n",
    "    phrase = re.sub(r\"(\\'ve|has)\", \" have\", phrase)\n",
    "    phrase = re.sub(r\"\\'m\", \" am\", phrase)\n",
    "    return phrase"
   ]
  }
 ],
 "metadata": {
  "interpreter": {
   "hash": "10344cc2630caee6c426f20c539f54d9cac1d1c4347cedafcb6cd557f4800b22"
  },
  "kernelspec": {
   "display_name": "Python 3.8.8 ('base')",
   "language": "python",
   "name": "python3"
  },
  "language_info": {
   "codemirror_mode": {
    "name": "ipython",
    "version": 3
   },
   "file_extension": ".py",
   "mimetype": "text/x-python",
   "name": "python",
   "nbconvert_exporter": "python",
   "pygments_lexer": "ipython3",
   "version": "3.8.8"
  },
  "orig_nbformat": 4
 },
 "nbformat": 4,
 "nbformat_minor": 2
}
